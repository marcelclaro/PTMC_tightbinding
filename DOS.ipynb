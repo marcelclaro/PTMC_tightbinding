{
 "cells": [
  {
   "cell_type": "code",
   "execution_count": 1,
   "metadata": {},
   "outputs": [
    {
     "ename": "AttributeError",
     "evalue": "module 'PTMC_TB.QE_util' has no attribute 'brilloin_sample'",
     "output_type": "error",
     "traceback": [
      "\u001b[0;31m---------------------------------------------------------------------------\u001b[0m",
      "\u001b[0;31mAttributeError\u001b[0m                            Traceback (most recent call last)",
      "\u001b[0;32m<ipython-input-1-a2ec1731177c>\u001b[0m in \u001b[0;36m<module>\u001b[0;34m\u001b[0m\n\u001b[1;32m     75\u001b[0m \u001b[0msolverhetero\u001b[0m \u001b[0;34m=\u001b[0m \u001b[0mpb\u001b[0m\u001b[0;34m.\u001b[0m\u001b[0msolver\u001b[0m\u001b[0;34m.\u001b[0m\u001b[0mlapack\u001b[0m\u001b[0;34m(\u001b[0m\u001b[0mmodelhetero\u001b[0m\u001b[0;34m)\u001b[0m\u001b[0;34m\u001b[0m\u001b[0;34m\u001b[0m\u001b[0m\n\u001b[1;32m     76\u001b[0m \u001b[0;34m\u001b[0m\u001b[0m\n\u001b[0;32m---> 77\u001b[0;31m \u001b[0mdosga\u001b[0m \u001b[0;34m=\u001b[0m \u001b[0msolverga\u001b[0m\u001b[0;34m.\u001b[0m\u001b[0mcalc_dos_full\u001b[0m\u001b[0;34m(\u001b[0m\u001b[0mnp\u001b[0m\u001b[0;34m.\u001b[0m\u001b[0mlinspace\u001b[0m\u001b[0;34m(\u001b[0m\u001b[0;34m-\u001b[0m\u001b[0;36m15\u001b[0m\u001b[0;34m,\u001b[0m \u001b[0;34m-\u001b[0m\u001b[0;36m5\u001b[0m\u001b[0;34m,\u001b[0m \u001b[0;36m2000\u001b[0m\u001b[0;34m)\u001b[0m\u001b[0;34m,\u001b[0m \u001b[0;36m0.04\u001b[0m\u001b[0;34m,\u001b[0m\u001b[0mQE\u001b[0m\u001b[0;34m.\u001b[0m\u001b[0mbrilloin_sample\u001b[0m\u001b[0;34m)\u001b[0m  \u001b[0;31m# [eV]\u001b[0m\u001b[0;34m\u001b[0m\u001b[0;34m\u001b[0m\u001b[0m\n\u001b[0m\u001b[1;32m     78\u001b[0m \u001b[0;34m\u001b[0m\u001b[0m\n\u001b[1;32m     79\u001b[0m \u001b[0mdosga\u001b[0m\u001b[0;34m.\u001b[0m\u001b[0mplot\u001b[0m\u001b[0;34m(\u001b[0m\u001b[0;34m)\u001b[0m\u001b[0;34m\u001b[0m\u001b[0;34m\u001b[0m\u001b[0m\n",
      "\u001b[0;31mAttributeError\u001b[0m: module 'PTMC_TB.QE_util' has no attribute 'brilloin_sample'"
     ]
    }
   ],
   "source": [
    "import pybinding as pb\n",
    "import matplotlib.pyplot as plt\n",
    "from IPython.display import clear_output\n",
    "import numpy as np\n",
    "from math import ceil, sqrt, pi, cos,exp, sin\n",
    "from scipy import integrate\n",
    "from scipy.optimize import minimize as minimize_scipy\n",
    "import matplotlib.mlab as mlab\n",
    "import matplotlib.gridspec as gs\n",
    "import sys\n",
    "from lmfit import Parameters, minimize\n",
    "from lmfit.printfuncs import report_fit\n",
    "\n",
    "from PTMC_TB.gamma import Stack\n",
    "from PTMC_TB.materials import *\n",
    "from PTMC_TB.charge import getCharges, electricfield, getpotential_direct, getpotential_ewald\n",
    "import PTMC_TB.fitting as fitting\n",
    "import PTMC_TB.QE_util as QE\n",
    "\n",
    "pb.pltutils.use_style()\n",
    "\n",
    "%matplotlib widget\n",
    "plt.rcParams[\"figure.dpi\"] = 300\n",
    "plt.rcParams['savefig.dpi'] = 300\n",
    "\n",
    "kpoints = QE.get_fullband_kpoints()\n",
    "points_index = QE.fullband_index\n",
    "\n",
    "forced_a = 0.376\n",
    "\n",
    "\n",
    "inse_ = InSe()\n",
    "gase_ = GaSe()\n",
    "gas_ = GaS()\n",
    "gate_ = GaTe()\n",
    "\n",
    "\n",
    "matstackgase = [gase_,gase_,gase_,gase_,gase_,gase_,gase_,gase_,gase_]\n",
    "matstackinse = [inse_,inse_,inse_,inse_,inse_,inse_,inse_,inse_,inse_]\n",
    "matstackhetero = [inse_,inse_,inse_,gase_,gase_,gase_,inse_,inse_,inse_]\n",
    "matgase = Stack(matstackgase,0.375)\n",
    "matinse = Stack(matstackinse,0.4)\n",
    "mathetero = Stack(matstackhetero,0.388)\n",
    "latticega = matgase.lat\n",
    "latticein = matinse.lat\n",
    "latticehetero = mathetero.lat\n",
    "kpoints[:,0] *= pi*2/matgase.a\n",
    "kpoints[:,1] *= pi*2/matgase.a\n",
    "kpoints[:,2] *= pi*2/matgase.c\n",
    "a=matgase.a\n",
    "c=matgase.c\n",
    "gamma = [0, 0, 0]\n",
    "A = [0, 0, pi/c]\n",
    "k = [4*pi/(3*a),0,0]\n",
    "m = [pi/a,-pi/(sqrt(3)*a),0]\n",
    "l = [4*pi/(3*a),0,pi/c]\n",
    "h = [pi/a,-pi/(sqrt(3)*a),pi/c]\n",
    "\n",
    "modelgase = pb.Model(\n",
    "latticega,\n",
    "pb.translational_symmetry()\n",
    ")\n",
    "solverga = pb.solver.lapack(modelgase)\n",
    "\n",
    "modelinse = pb.Model(\n",
    "latticein,\n",
    "pb.translational_symmetry()\n",
    ")\n",
    "solverin = pb.solver.lapack(modelinse)\n",
    "\n",
    "modelhetero = pb.Model(\n",
    "latticehetero,\n",
    "pb.translational_symmetry()\n",
    ")\n",
    "solverhetero = pb.solver.lapack(modelhetero)\n",
    "\n",
    "dosga = solverga.calc_dos_full(np.linspace(-15, -5, 2000), 0.04,QE.brillouin_sample)  # [eV]\n",
    "\n",
    "dosga.plot()\n",
    "\n",
    "dosin = solverin.calc_dos_full(np.linspace(-15, -5, 2000), 0.04,QE.brillouin_sample)  # [eV]\n",
    "dosin.plot()\n",
    "\n",
    "doshetero = solverhetero.calc_dos_full(np.linspace(-15, -5, 2000), 0.04,QE.brillouin_sample)  # [eV]\n",
    "doshetero.plot()\n"
   ]
  },
  {
   "cell_type": "code",
   "execution_count": 5,
   "metadata": {},
   "outputs": [
    {
     "data": {
      "text/plain": [
       "73"
      ]
     },
     "execution_count": 5,
     "metadata": {},
     "output_type": "execute_result"
    }
   ],
   "source": [
    "len(QE.brilloin_sample[:,3])"
   ]
  },
  {
   "cell_type": "code",
   "execution_count": null,
   "metadata": {},
   "outputs": [],
   "source": []
  }
 ],
 "metadata": {
  "interpreter": {
   "hash": "916dbcbb3f70747c44a77c7bcd40155683ae19c65e1c03b4aa3499c5328201f1"
  },
  "kernelspec": {
   "display_name": "Python 3.8.10 64-bit",
   "name": "python3"
  },
  "language_info": {
   "codemirror_mode": {
    "name": "ipython",
    "version": 3
   },
   "file_extension": ".py",
   "mimetype": "text/x-python",
   "name": "python",
   "nbconvert_exporter": "python",
   "pygments_lexer": "ipython3",
   "version": "3.8.10"
  },
  "orig_nbformat": 4
 },
 "nbformat": 4,
 "nbformat_minor": 2
}
